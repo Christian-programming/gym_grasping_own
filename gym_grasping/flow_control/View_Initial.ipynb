{
 "cells": [
  {
   "cell_type": "markdown",
   "metadata": {},
   "source": [
    "# View Environment Samples\n",
    "\n",
    "These files are read from a folder, to generate new images after chaning code:\n",
    "\n",
    "```\n",
    "rm ./samples/*\n",
    "python sample_initial.py\n",
    "```\n"
   ]
  },
  {
   "cell_type": "code",
   "execution_count": null,
   "metadata": {},
   "outputs": [],
   "source": [
    "import os\n",
    "import PIL\n",
    "from IPython.display import Image, display\n",
    "\n",
    "save_dir = \"./samples\"\n",
    "files = os.listdir(save_dir)\n",
    "\n",
    "print([i*64 for i in range(10)])\n",
    "display(Image(\"./color_test.png\"))\n",
    "files = [fn for fn in files if \"_flow\" not in fn]\n",
    "\n",
    "old_fn = 0\n",
    "for i, fn in enumerate(sorted(files)):\n",
    "    fn = os.path.join(save_dir,fn)\n",
    "    \n",
    "    if i == 0:\n",
    "        old_fn = fn\n",
    "        continue\n",
    "        \n",
    "    print(i,old_fn)\n",
    "    flow_fn = fn.replace(\".png\",\"_flow.png\")\n",
    "    display(Image(filename=old_fn),Image(filename=fn), Image(filename=flow_fn))\n",
    "        \n",
    "    old_fn = fn\n",
    "        \n",
    "    "
   ]
  },
  {
   "cell_type": "code",
   "execution_count": null,
   "metadata": {},
   "outputs": [],
   "source": []
  }
 ],
 "metadata": {
  "kernelspec": {
   "display_name": "Python 3",
   "language": "python",
   "name": "python3"
  },
  "language_info": {
   "codemirror_mode": {
    "name": "ipython",
    "version": 3
   },
   "file_extension": ".py",
   "mimetype": "text/x-python",
   "name": "python",
   "nbconvert_exporter": "python",
   "pygments_lexer": "ipython3",
   "version": "3.7.0"
  }
 },
 "nbformat": 4,
 "nbformat_minor": 2
}
