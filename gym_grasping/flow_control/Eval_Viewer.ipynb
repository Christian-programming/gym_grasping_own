{
 "cells": [
  {
   "cell_type": "markdown",
   "metadata": {},
   "source": [
    "# Demonstration View\n",
    "\n",
    "View a demonstration by sliding through the frames.\n",
    "This also plots the z height."
   ]
  },
  {
   "cell_type": "code",
   "execution_count": null,
   "metadata": {},
   "outputs": [],
   "source": [
    "list(state_recording.keys())\n",
    "gripper_states = state_recording[\"gripper_states\"]\n",
    "print(gripper_states.astype(int))\n",
    "diff = np.diff(gripper_states)\n",
    "gripper_state_changes = np.where(diff)[0]+1\n",
    "\n",
    "switch_frame = gripper_state_changes[0]\n",
    "\n",
    "print(gripper_states[switch_frame-1], gripper_states[switch_frame])\n",
    "print(switch_frame)"
   ]
  },
  {
   "cell_type": "markdown",
   "metadata": {},
   "source": [
    "# Save images to Files"
   ]
  },
  {
   "cell_type": "markdown",
   "metadata": {},
   "source": [
    "# Mask View\n",
    "\n",
    "Mask out the foreground object so that foreground specific flow can be calculated."
   ]
  },
  {
   "cell_type": "code",
   "execution_count": null,
   "metadata": {},
   "outputs": [],
   "source": [
    "import glob\n",
    "\n",
    "%matplotlib notebook\n",
    "from ipywidgets import *\n",
    "import matplotlib.pyplot as plt\n",
    "import numpy as np\n",
    "\n",
    "run_files = glob.glob(\"eval/*.npz\")\n",
    "\n",
    "runs = []\n",
    "\n",
    "for fn in sorted(run_files):\n",
    "    runs.append(np.load(fn))\n",
    "\n",
    "rewards = [r[\"reward\"][-1] for r in runs]\n",
    "sr = np.mean(rewards)\n",
    "print(\"Rewards: \", rewards)\n",
    "print(\"Success rate: \", sr)\n",
    "\n",
    "    \n",
    "num_episodes = len(runs)\n",
    "\n",
    "\n",
    "fig, ax = plt.subplots(1,1)\n",
    "line = ax.imshow(runs[0][\"state\"][0])\n",
    "ax.set_axis_off()\n",
    "\n",
    "\n",
    "def update(w,i):\n",
    "    frames = len(runs[i][\"state\"])\n",
    "    w_new = min(w,frames-1)\n",
    "    image = runs[i][\"state\"][w_new].copy()\n",
    "    line.set_data(image)\n",
    "    fig.canvas.draw_idle()\n",
    "    print(w, i)\n",
    "    \n",
    "slider_w = widgets.IntSlider(min=0,max=600-1,step=10,value=0,\n",
    "                             layout=Layout(width='70%'))\n",
    "\n",
    "slider_i = widgets.IntSlider(min=0,max=num_episodes-1,step=1,value=0,\n",
    "                             layout=Layout(width='70%'))\n",
    "\n",
    "interact(update,w=slider_w, i=slider_i)\n"
   ]
  },
  {
   "cell_type": "code",
   "execution_count": null,
   "metadata": {},
   "outputs": [],
   "source": [
    "threshold = 0.6\n",
    "masks = np.zeros(image_recording.shape[:3],dtype=bool)\n",
    "\n",
    "if recording == \"stack_recordings/episode_118\":\n",
    "    switch_frame = 65\n",
    "elif recording == \"stack_recordings/episode_129\":\n",
    "    switch_frame = 65\n",
    "elif recording == \"stack_recordings/episode_156\":\n",
    "    switch_frame = 80\n",
    "else:\n",
    "    switch_frame = 1e6\n",
    "    \n",
    "for i in range(len(image_recording)):\n",
    "    if i < switch_frame:\n",
    "        color_index = 2\n",
    "    else:\n",
    "        color_index = 0\n",
    "    mask = get_mask(image_recording[i], threshold, color_index)\n",
    "    masks[i] = mask\n",
    "\n",
    "print(np.mean(masks) * 100, \"percent of pixels fg\")\n",
    "mask_fn = image_recording_fn.replace(\"_img.npz\",\"_mask.npz\")\n",
    "np.savez(mask_fn, mask=masks)\n",
    "print(\"Saved to\",mask_fn)"
   ]
  },
  {
   "cell_type": "code",
   "execution_count": null,
   "metadata": {},
   "outputs": [],
   "source": [
    "fig, ax = plt.subplots(1,1)\n",
    "line = ax.imshow(masks[25])\n",
    "ax.set_axis_off()\n",
    "\n",
    "def update(i):\n",
    "    image = image_recording[i].copy()\n",
    "    mask = masks[i]\n",
    "    image[np.logical_not(mask)] = 255,255,255\n",
    "    line.set_data(image)\n",
    "    fig.canvas.draw_idle()\n",
    "    \n",
    "slider_i2 = widgets.IntSlider(min=0,max=num_frames,step=1,value=25,\n",
    "                             layout=Layout(width='70%'))\n",
    "\n",
    "interact(update, i=slider_i2)"
   ]
  },
  {
   "cell_type": "code",
   "execution_count": null,
   "metadata": {},
   "outputs": [],
   "source": [
    "# This should select a bounding box.\n",
    "\n",
    "index_A = 25\n",
    "index_B = 5\n",
    "\n",
    "fig, ((ax, ax2), (ax3, ax4)) = plt.subplots(2, 2)\n",
    "ax.imshow(image_recording[index_A])\n",
    "ax.set_axis_off()\n",
    "tmp = image_recording[index_A].copy()\n",
    "tmp[20:60,35:55] = 255\n",
    "\n",
    "ax2.imshow(tmp)\n",
    "ax2.set_axis_off()\n",
    "\n",
    "ax3.imshow(image_recording[index_B])\n",
    "\n"
   ]
  },
  {
   "cell_type": "code",
   "execution_count": null,
   "metadata": {},
   "outputs": [],
   "source": []
  }
 ],
 "metadata": {
  "kernelspec": {
   "display_name": "Python 3",
   "language": "python",
   "name": "python3"
  },
  "language_info": {
   "codemirror_mode": {
    "name": "ipython",
    "version": 3
   },
   "file_extension": ".py",
   "mimetype": "text/x-python",
   "name": "python",
   "nbconvert_exporter": "python",
   "pygments_lexer": "ipython3",
   "version": "3.7.3"
  }
 },
 "nbformat": 4,
 "nbformat_minor": 2
}
