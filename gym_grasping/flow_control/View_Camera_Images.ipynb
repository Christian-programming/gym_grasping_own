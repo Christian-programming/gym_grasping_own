{
 "cells": [
  {
   "cell_type": "code",
   "execution_count": null,
   "metadata": {},
   "outputs": [],
   "source": [
    "%matplotlib notebook\n",
    "import os\n",
    "import numpy as np\n",
    "import matplotlib.pyplot as plt\n",
    "import PIL\n",
    "from IPython.display import Image, display\n",
    "\n",
    "# These images are recorded by robot_io/realsense2_cam.py\n",
    "\n",
    "image_dir = \"/home/argusm/lang/gym_grasping/gym_grasping/flow_control/nissan_images\"\n",
    "keyframe = image_dir+\"/20190808_112922.jpg\"\n",
    "keyframe_paint = keyframe.replace(\".jpg\",\"_paint.jpg\")\n",
    "seq_end =  image_dir+\"/20190808_113821.jpg\"\n",
    "\n",
    "# compute flow between demo and live\n",
    "#size = (640, 360)\n",
    "size = (320, 180)\n",
    "\n",
    "files = sorted(os.listdir(image_dir))\n",
    "files = [os.path.join(image_dir, fn) for fn in files]\n",
    "assert(keyframe in files and seq_end in files)\n",
    "\n",
    "def load_image(fn):\n",
    "    return PIL.Image.open(fn).resize(size).rotate(180)\n",
    "\n",
    "image = load_image(keyframe_paint)\n",
    "image = np.array(image)\n",
    "mask = np.all(image == 255,axis=2)"
   ]
  },
  {
   "cell_type": "code",
   "execution_count": null,
   "metadata": {},
   "outputs": [],
   "source": [
    "display(Image(filename=keyframe))\n",
    "\n",
    "#display(Image(filename=keyframe_paint))\n",
    "plt.imshow(mask)\n",
    "plt.show()"
   ]
  },
  {
   "cell_type": "code",
   "execution_count": null,
   "metadata": {},
   "outputs": [],
   "source": [
    "sequence = [fn for fn in files if (fn >= keyframe and fn <= seq_end and fn != keyframe_paint)]\n",
    "print(\"Sequence length: \", len(sequence))"
   ]
  },
  {
   "cell_type": "code",
   "execution_count": null,
   "metadata": {},
   "outputs": [],
   "source": [
    "%matplotlib notebook\n",
    "from ipywidgets import *\n",
    "import numpy as np\n",
    "\n",
    "image_sequence = [load_image(fn) for fn in sequence]\n",
    "\n",
    "#print(image_sequence[0].size)\n",
    "#print([64*i for i in range(25)])\n",
    "\n",
    "fig, ax = plt.subplots(1,1)\n",
    "line = ax.imshow(image_sequence[0])\n",
    "ax.set_axis_off()\n",
    "\n",
    "def update(i):\n",
    "    image = image_sequence[i].copy()\n",
    "    line.set_data(image)\n",
    "    fig.canvas.draw_idle()\n",
    "    \n",
    "slider_i2 = widgets.IntSlider(min=0,max=len(image_sequence)-1,step=1,value=0,\n",
    "                             layout=Layout(width='70%'))\n",
    "\n",
    "interact(update, i=slider_i2)\n",
    "\n",
    "\n"
   ]
  },
  {
   "cell_type": "code",
   "execution_count": null,
   "metadata": {},
   "outputs": [],
   "source": [
    "from gym_grasping.flow_control.flow_module import FlowModule\n",
    "print(size)\n",
    "flow_module = FlowModule(size=size)"
   ]
  },
  {
   "cell_type": "code",
   "execution_count": null,
   "metadata": {},
   "outputs": [],
   "source": [
    "import io\n",
    "import IPython\n",
    "\n",
    "base_image = image_sequence[0]\n",
    "\n",
    "def update(i):\n",
    "    image = image_sequence[i].copy()\n",
    "    flow = flow_module.step(np.array(base_image), np.array(image))\n",
    "    \n",
    "    flow[mask] = (0,0)\n",
    "    print(np.mean(flow,axis=(0,1)))\n",
    "    \n",
    "    flow_img = flow_module.computeImg(flow, dynamic_range=False)\n",
    "    \n",
    "    with io.BytesIO() as output:\n",
    "        PIL.Image.fromarray(flow_img).save(output, format=\"png\")\n",
    "        contents = output.getvalue()\n",
    "        display( image, IPython.display.Image(data=output.getvalue()))\n",
    "\n",
    "    fig.canvas.draw_idle()\n",
    "    \n",
    "slider_i2 = widgets.IntSlider(min=0,max=len(image_sequence)-1,step=1,value=0,\n",
    "                             layout=Layout(width='70%'))\n",
    "\n",
    "interact(update, i=slider_i2)"
   ]
  },
  {
   "cell_type": "code",
   "execution_count": null,
   "metadata": {},
   "outputs": [],
   "source": []
  }
 ],
 "metadata": {
  "kernelspec": {
   "display_name": "Python 3",
   "language": "python",
   "name": "python3"
  },
  "language_info": {
   "codemirror_mode": {
    "name": "ipython",
    "version": 3
   },
   "file_extension": ".py",
   "mimetype": "text/x-python",
   "name": "python",
   "nbconvert_exporter": "python",
   "pygments_lexer": "ipython3",
   "version": "3.7.0"
  }
 },
 "nbformat": 4,
 "nbformat_minor": 2
}
